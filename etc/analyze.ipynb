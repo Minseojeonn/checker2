{
 "cells": [
  {
   "cell_type": "code",
   "execution_count": 143,
   "metadata": {},
   "outputs": [],
   "source": [
    "from scipy.sparse import csr_matrix\n",
    "import numpy as np\n",
    "raw_file = open(\"ml-1m.tsv\", \"r\")\n",
    "lines = raw_file.readlines()"
   ]
  },
  {
   "cell_type": "code",
   "execution_count": 144,
   "metadata": {},
   "outputs": [],
   "source": [
    "edge = [[], []]\n",
    "label = []\n",
    "for line in lines:\n",
    "    line = line.strip(\"/n\")\n",
    "    line = line.split(\"\\t\")\n",
    "    fr, to, sign = line\n",
    "    edge[0].append(int(fr))\n",
    "    edge[1].append(int(to))\n",
    "    label.append(sign)\n"
   ]
  },
  {
   "cell_type": "code",
   "execution_count": 145,
   "metadata": {},
   "outputs": [
    {
     "data": {
      "text/plain": [
       "6040"
      ]
     },
     "execution_count": 145,
     "metadata": {},
     "output_type": "execute_result"
    }
   ],
   "source": [
    "num_user = max(edge[0])+1\n",
    "num_user"
   ]
  },
  {
   "cell_type": "code",
   "execution_count": 146,
   "metadata": {},
   "outputs": [
    {
     "data": {
      "text/plain": [
       "3952"
      ]
     },
     "execution_count": 146,
     "metadata": {},
     "output_type": "execute_result"
    }
   ],
   "source": [
    "num_item = max(edge[1])+1\n",
    "num_item"
   ]
  },
  {
   "cell_type": "code",
   "execution_count": 147,
   "metadata": {},
   "outputs": [],
   "source": [
    "num_nodes = num_item+num_user"
   ]
  },
  {
   "cell_type": "code",
   "execution_count": 148,
   "metadata": {},
   "outputs": [
    {
     "data": {
      "text/plain": [
       "torch.Size([9992, 9992])"
      ]
     },
     "execution_count": 148,
     "metadata": {},
     "output_type": "execute_result"
    }
   ],
   "source": [
    "import torch\n",
    "A = torch.sparse_coo_tensor(torch.tensor(edge), torch.tensor([1]*len(edge[0])), (num_nodes, num_nodes))\n",
    "A =  torch.eye(num_nodes) + A \n",
    "A.shape"
   ]
  },
  {
   "cell_type": "code",
   "execution_count": 149,
   "metadata": {},
   "outputs": [],
   "source": [
    "row_sum = torch.sum(A, dim=1)"
   ]
  },
  {
   "cell_type": "code",
   "execution_count": 150,
   "metadata": {},
   "outputs": [],
   "source": [
    "d_inv_row = 1.0 / row_sum.to_dense()\n",
    "d_inv_row[torch.isinf(d_inv_row)] = 0\n",
    "d_inv_matrix = torch.diag(d_inv_row.to_dense())\n"
   ]
  },
  {
   "cell_type": "code",
   "execution_count": 151,
   "metadata": {},
   "outputs": [
    {
     "data": {
      "text/plain": [
       "tensor([[0.0185, 0.0000, 0.0000,  ..., 0.0000, 0.0000, 0.0000],\n",
       "        [0.0000, 0.0077, 0.0000,  ..., 0.0000, 0.0000, 0.0000],\n",
       "        [0.0000, 0.0000, 0.0192,  ..., 0.0000, 0.0000, 0.0000],\n",
       "        ...,\n",
       "        [0.0000, 0.0000, 0.0000,  ..., 1.0000, 0.0000, 0.0000],\n",
       "        [0.0000, 0.0000, 0.0000,  ..., 0.0000, 1.0000, 0.0000],\n",
       "        [0.0000, 0.0000, 0.0000,  ..., 0.0000, 0.0000, 1.0000]])"
      ]
     },
     "execution_count": 151,
     "metadata": {},
     "output_type": "execute_result"
    }
   ],
   "source": [
    "d_inv_matrix"
   ]
  },
  {
   "cell_type": "code",
   "execution_count": 152,
   "metadata": {},
   "outputs": [],
   "source": [
    "A = A.to(torch.float32)"
   ]
  },
  {
   "cell_type": "code",
   "execution_count": 161,
   "metadata": {},
   "outputs": [],
   "source": [
    "nA = torch.sparse.mm(d_inv_matrix,A)"
   ]
  },
  {
   "cell_type": "code",
   "execution_count": 162,
   "metadata": {},
   "outputs": [],
   "source": [
    "nAT = nA.T.to(\"cuda:0\")"
   ]
  },
  {
   "cell_type": "code",
   "execution_count": 163,
   "metadata": {},
   "outputs": [
    {
     "data": {
      "text/plain": [
       "tensor([1., 1., 1.,  ..., 1., 1., 1.], device='cuda:0')"
      ]
     },
     "execution_count": 163,
     "metadata": {},
     "output_type": "execute_result"
    }
   ],
   "source": [
    "torch.sum(nAT, dim=0)"
   ]
  },
  {
   "cell_type": "code",
   "execution_count": 169,
   "metadata": {},
   "outputs": [],
   "source": [
    "alpha = 0.8\n",
    "x0 = torch.randn(num_nodes, num_nodes).abs().to(\"cuda:0\")\n",
    "I = torch.eye(num_nodes).to(\"cuda:0\")\n",
    "x = x0.to(\"cuda:0\")\n",
    "for i in range(100):\n",
    "    x = (1-alpha) * nAT.matmul(x) + alpha * I"
   ]
  },
  {
   "cell_type": "code",
   "execution_count": 170,
   "metadata": {},
   "outputs": [
    {
     "data": {
      "text/plain": [
       "tensor([[2.0790e-01, 1.7321e-03, 1.8093e-03,  ..., 2.8121e-09, 2.8209e-09,\n",
       "         2.7936e-09],\n",
       "        [2.7806e-04, 2.0151e-01, 3.7871e-04,  ..., 4.6816e-10, 4.6962e-10,\n",
       "         4.6507e-10],\n",
       "        [3.2237e-04, 3.4595e-04, 2.0350e-01,  ..., 5.5000e-10, 5.5172e-10,\n",
       "         5.4637e-10],\n",
       "        ...,\n",
       "        [1.3548e-10, 3.1371e-10, 9.6911e-11,  ..., 1.0000e+00, 3.2088e-10,\n",
       "         8.1092e-11],\n",
       "        [2.5457e-10, 1.9706e-11, 1.4497e-10,  ..., 8.9851e-11, 1.0000e+00,\n",
       "         2.9434e-11],\n",
       "        [1.6471e-10, 1.6224e-10, 2.7731e-10,  ..., 8.5831e-11, 3.6266e-10,\n",
       "         1.0000e+00]], device='cuda:0')"
      ]
     },
     "execution_count": 170,
     "metadata": {},
     "output_type": "execute_result"
    }
   ],
   "source": [
    "x"
   ]
  },
  {
   "cell_type": "code",
   "execution_count": 171,
   "metadata": {},
   "outputs": [
    {
     "data": {
      "text/plain": [
       "tensor([1.0000, 1.0000, 1.0000,  ..., 1.0000, 1.0000, 1.0000], device='cuda:0')"
      ]
     },
     "execution_count": 171,
     "metadata": {},
     "output_type": "execute_result"
    }
   ],
   "source": [
    "torch.sum(x, dim=0)"
   ]
  },
  {
   "cell_type": "code",
   "execution_count": null,
   "metadata": {},
   "outputs": [],
   "source": []
  }
 ],
 "metadata": {
  "kernelspec": {
   "display_name": "dvg",
   "language": "python",
   "name": "python3"
  },
  "language_info": {
   "codemirror_mode": {
    "name": "ipython",
    "version": 3
   },
   "file_extension": ".py",
   "mimetype": "text/x-python",
   "name": "python",
   "nbconvert_exporter": "python",
   "pygments_lexer": "ipython3",
   "version": "3.12.3"
  }
 },
 "nbformat": 4,
 "nbformat_minor": 2
}
